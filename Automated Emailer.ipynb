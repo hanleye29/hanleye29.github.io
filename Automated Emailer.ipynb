{
 "cells": [
  {
   "cell_type": "markdown",
   "id": "999daf36",
   "metadata": {},
   "source": [
    "# Automated Emailer\n",
    "\n",
    "Pg. 298\n",
    "\n",
    "\"Write a program that takes an email address and string of text on the command line and then, using selenium, logs in to your email account and send an email of the string to the provided address. This would be a nice way to add a notification feature to your programs. You could also write a similar program to send messages from a Facebook or Twitter Account.\""
   ]
  },
  {
   "cell_type": "code",
   "execution_count": 6,
   "id": "ac84cda3",
   "metadata": {},
   "outputs": [],
   "source": [
    "from selenium import webdriver\n",
    "from selenium.webdriver.common.keys import Keys\n",
    "import ipywidgets as widge\n",
    "import time\n",
    "import regex as re\n",
    "import warnings\n",
    "warnings.filterwarnings(\"ignore\", category=DeprecationWarning)"
   ]
  },
  {
   "cell_type": "code",
   "execution_count": 7,
   "id": "6897e7e5",
   "metadata": {},
   "outputs": [],
   "source": [
    "def autoEmail(rec, sub, mes):\n",
    "    \n",
    "    browser = webdriver.Firefox()\n",
    "    browser.get('https://login.aol.com')\n",
    "\n",
    "    loginUserName = browser.find_element_by_id('login-username')\n",
    "    loginUserName.send_keys('romulusfromulus@aol.com')\n",
    "    userNameNextButton = browser.find_element_by_id('login-signin')\n",
    "    userNameNextButton.click()\n",
    "\n",
    "    time.sleep(3)\n",
    "\n",
    "    loginPass = browser.find_element_by_id('login-passwd')\n",
    "    loginPass.send_keys('*****')\n",
    "    loginPassButton = browser.find_element_by_id('login-signin')\n",
    "    loginPassButton.click()\n",
    "\n",
    "    time.sleep(3)\n",
    "\n",
    "    mailButton = browser.find_element_by_class_name('mail-button')\n",
    "    mailButton.click()\n",
    "\n",
    "    time.sleep(3)\n",
    "    \n",
    "    browser.switch_to_window(browser.window_handles[1])\n",
    "\n",
    "    time.sleep(5)\n",
    "    \n",
    "    composeButton = browser.find_element_by_id('dijit__Widget_0')\n",
    "    composeButton.click()\n",
    "\n",
    "    time.sleep(5)\n",
    "    \n",
    "    recipient = browser.find_element_by_id('toInputField')\n",
    "    for i in range(len(rec)):\n",
    "        recipient.send_keys(rec[i] + ';')\n",
    "    subject = browser.find_element_by_name('Subject')\n",
    "    subject.send_keys(sub)\n",
    "    message = browser.find_element_by_name('composeMessage_body_body')\n",
    "    message.send_keys(mes)\n",
    "\n",
    "    sendButton = browser.find_element_by_id('uniqName_4_4')\n",
    "    sendButton.click()\n",
    "\n",
    "    time.sleep(5)\n",
    "\n",
    "    browser.quit()"
   ]
  },
  {
   "cell_type": "code",
   "execution_count": 3,
   "id": "d8797475",
   "metadata": {
    "code_folding": [],
    "hide_input": true,
    "scrolled": true
   },
   "outputs": [
    {
     "name": "stdout",
     "output_type": "stream",
     "text": [
      "Hello! Please enter the recipients separated by semi-colons, the subject, and the message here:\n"
     ]
    },
    {
     "data": {
      "application/vnd.jupyter.widget-view+json": {
       "model_id": "941868b74ef94c7fb46b1f7e1cd51228",
       "version_major": 2,
       "version_minor": 0
      },
      "text/plain": [
       "Textarea(value='', description='Recipient(s):')"
      ]
     },
     "metadata": {},
     "output_type": "display_data"
    },
    {
     "data": {
      "application/vnd.jupyter.widget-view+json": {
       "model_id": "624e9a6df5194b45941085cc7c987280",
       "version_major": 2,
       "version_minor": 0
      },
      "text/plain": [
       "Textarea(value='', description='Subject:')"
      ]
     },
     "metadata": {},
     "output_type": "display_data"
    },
    {
     "data": {
      "application/vnd.jupyter.widget-view+json": {
       "model_id": "f7eed5ad7db340149dee4147f1bb35ca",
       "version_major": 2,
       "version_minor": 0
      },
      "text/plain": [
       "Textarea(value='', description='Message:')"
      ]
     },
     "metadata": {},
     "output_type": "display_data"
    }
   ],
   "source": [
    "rec = widge.Textarea(description = 'Recipient(s):',\n",
    "           disabled = False)\n",
    "sub = widge.Textarea(description = 'Subject:',\n",
    "                    disabled = False)\n",
    "mes = widge.Textarea(description = 'Message:',\n",
    "                    disabled = False)\n",
    "print('Hello! Please enter the recipients separated by semi-colons, the subject, and the message here:')\n",
    "display(rec)\n",
    "display(sub)\n",
    "display(mes)"
   ]
  },
  {
   "cell_type": "code",
   "execution_count": 8,
   "id": "dfee852e",
   "metadata": {},
   "outputs": [
    {
     "name": "stdout",
     "output_type": "stream",
     "text": [
      "Sending Message.\n",
      "Complete!\n"
     ]
    }
   ],
   "source": [
    "if rec.value == \"\" or sub.value == \"\" or mes.value == \"\":\n",
    "    print('Sorry! You have to enter recipients, a subject and a message.')\n",
    "else:\n",
    "    emailRegex = re.compile(r'[a-zA-Z0-9_\\-\\.]*@[a-zA-Z0-9\\-]*\\.[a-zA-Z]*')\n",
    "    recipients = emailRegex.findall(rec.value)\n",
    "    if recipients == None:\n",
    "        print('Sorry! Email Addresses are not Valid')\n",
    "    else:\n",
    "        subject = sub.value\n",
    "        message = mes.value\n",
    "        print('Sending Message.')\n",
    "        autoEmail(recipients,subject,message)\n",
    "        print('Complete!')"
   ]
  }
 ],
 "metadata": {
  "celltoolbar": "Tags",
  "kernelspec": {
   "display_name": "Python 3",
   "language": "python",
   "name": "python3"
  },
  "language_info": {
   "codemirror_mode": {
    "name": "ipython",
    "version": 3
   },
   "file_extension": ".py",
   "mimetype": "text/x-python",
   "name": "python",
   "nbconvert_exporter": "python",
   "pygments_lexer": "ipython3",
   "version": "3.8.8"
  }
 },
 "nbformat": 4,
 "nbformat_minor": 5
}
